{
  "nbformat": 4,
  "nbformat_minor": 0,
  "metadata": {
    "colab": {
      "name": "Bootcamp_DS_Módulo_1.ipynb",
      "provenance": []
    },
    "kernelspec": {
      "name": "python3",
      "display_name": "Python 3"
    },
    "language_info": {
      "name": "python"
    }
  },
  "cells": [
    {
      "cell_type": "markdown",
      "metadata": {
        "id": "2_OlErwmggrP"
      },
      "source": [
        "Chamando Libraries\n"
      ]
    },
    {
      "cell_type": "code",
      "metadata": {
        "id": "YACBFrN8bqhG"
      },
      "source": [
        "import pandas as pd"
      ],
      "execution_count": null,
      "outputs": []
    },
    {
      "cell_type": "markdown",
      "metadata": {
        "id": "pcRvYZaEivEG"
      },
      "source": [
        "Formatando Float\n"
      ]
    },
    {
      "cell_type": "code",
      "metadata": {
        "id": "7trEnrcLiel3"
      },
      "source": [
        "pd.options.display.float_format = \"{:.2f}\".format"
      ],
      "execution_count": null,
      "outputs": []
    },
    {
      "cell_type": "markdown",
      "metadata": {
        "id": "BRktBGCegdsw"
      },
      "source": [
        "Chamando Arquivo_DF \n",
        "\n",
        "` Lembrando que por se tratar de um arquivo PT-BR, precisamos mudar o encoding para o ISO-8859-1 para que possamos ler o arquivo, além disso - o separador estava originalmente como \";\" sendo assim é necessário também declarar esse separador - além disso, por se tratar de números em PT-BR a formatação de decimal estará como \",\" sendo assim necessário atualizar para \".\"`"
      ]
    },
    {
      "cell_type": "code",
      "metadata": {
        "colab": {
          "base_uri": "https://localhost:8080/"
        },
        "id": "QOcBxRHBgt18",
        "outputId": "eefddf78-04b2-4fe4-9da0-6d384c4ce96c"
      },
      "source": [
        "url = \"https://raw.githubusercontent.com/hidekiaoyanagi/df_alura_SUS_21/main/A212755189_28_143_208.csv\"\n",
        "df = pd.read_csv(url, encoding=\"ISO-8859-1\", skiprows=3, skipfooter= 3 , sep=\";\", thousands= '.', decimal= \",\")"
      ],
      "execution_count": null,
      "outputs": [
        {
          "output_type": "stream",
          "name": "stderr",
          "text": [
            "/usr/local/lib/python3.7/dist-packages/ipykernel_launcher.py:2: ParserWarning: Falling back to the 'python' engine because the 'c' engine does not support skipfooter; you can avoid this warning by specifying engine='python'.\n",
            "  \n"
          ]
        }
      ]
    },
    {
      "cell_type": "markdown",
      "metadata": {
        "id": "b1s3PAITjkRM"
      },
      "source": [
        "Remover NA do DF"
      ]
    },
    {
      "cell_type": "code",
      "metadata": {
        "id": "tUhaz9hmhnfG"
      },
      "source": [
        "df.dropna(inplace= True)"
      ],
      "execution_count": null,
      "outputs": []
    },
    {
      "cell_type": "code",
      "metadata": {
        "id": "P7P5OQhTjf6v"
      },
      "source": [
        "dados_estados = df\n",
        "\n",
        "\n",
        "dados_estados.replace(\"-\",0 , inplace= True)\n",
        "\n",
        "dados_estados"
      ],
      "execution_count": null,
      "outputs": []
    },
    {
      "cell_type": "markdown",
      "metadata": {
        "id": "TNu7UFEnosof"
      },
      "source": [
        "Criando um DataViz com o matplotlib"
      ]
    },
    {
      "cell_type": "code",
      "metadata": {
        "id": "eaLZOw0roqxV"
      },
      "source": [
        "#Importando as Bibliotecas necessárias!\n",
        "  #Lembrando que o próprio pandas, tem dentro de seu dataviz o matplotlib - no entanto, o que gostáriamos de fazer aqui é ajustar detalhes internos\n",
        "  #Para isso, será necessário chamar a própria library para que a gente tenha esse grau de granularidade.\n",
        "import matplotlib.pyplot as plt\n",
        "import matplotlib.ticker as ticker"
      ],
      "execution_count": null,
      "outputs": []
    },
    {
      "cell_type": "code",
      "metadata": {
        "id": "ZVsCvNJ9orMZ"
      },
      "source": [
        "#Em que eixo X , será o estado que estamos trabalhando.\n",
        "# Em que eixo Y, será o valor gasto para a data que gostariamos de trabalhar.\n",
        "# kind = bar, declara o tipo de gráfico que gostariamos de exibir - nesse caso bar de barra.\n",
        "#figsize, coloca a dimensão do nosso gráfico em largura x altura.\n",
        "#o ticket.StrMethodFormatter serve para que possamos exibir nossos dados do eixo y de uma maneira mais agradavel.\n",
        "  #para esse gráfico X:(faz referencia a um valor X qualquer do eixo) - estará separado nos milhares por \",\" e decimal por \".\" - além de conter apenas\n",
        "  #2 casas decimais.\n",
        "\n",
        "#utilizaremos o df.drop(df.tail(1)) para remover a ultima linha do nosso DF, pois ela é uma linha de total(somatória) e sendo assim cria\n",
        "#uma distorção dentro do nosso DataViz.\n",
        "\n",
        "\n",
        "\n",
        "if len(dados_estados['Unidade da Federação']) == len(df['Unidade da Federação']):\n",
        "  dados_estados = df.drop(df.tail(1).index)\n",
        "\n",
        "if len(dados_estados.columns) == len(df.columns):\n",
        "  dados_estados = dados_estados.drop(dados_estados.columns[-1],axis=1)\n",
        "\n",
        "ax = dados_estados.plot(x=\"Unidade da Federação\", y=\"2008/Ago\", kind=\"bar\", figsize=(9,6))\n",
        "ax.yaxis.set_major_formatter(ticker.StrMethodFormatter(\"{x:,.2f}\"))\n",
        "\n",
        "plt.title(\"Valor Gasto em R$ por unidade da federação\")\n",
        "plt.show()"
      ],
      "execution_count": null,
      "outputs": []
    },
    {
      "cell_type": "code",
      "metadata": {
        "id": "hnh7ZKJir-TG"
      },
      "source": [
        "#Em que eixo X , será o estado que estamos trabalhando.\n",
        "# Em que eixo Y, será o valor gasto para a data que gostariamos de trabalhar.\n",
        "# kind = bar, declara o tipo de gráfico que gostariamos de exibir - nesse caso bar de barra.\n",
        "#figsize, coloca a dimensão do nosso gráfico em largura x altura.\n",
        "#o ticket.StrMethodFormatter serve para que possamos exibir nossos dados do eixo y de uma maneira mais agradavel.\n",
        "  #para esse gráfico X:(faz referencia a um valor X qualquer do eixo) - estará separado nos milhares por \",\" e decimal por \".\" - além de conter apenas\n",
        "  #2 casas decimais.\n",
        "\n",
        "#utilizaremos o df.drop(df.tail(1)) para remover a ultima linha do nosso DF, pois ela é uma linha de total(somatória) e sendo assim cria\n",
        "#uma distorção dentro do nosso DataViz.\n",
        "#Caso a qntd de linhas do dados_estados for igual a quantiadade de linhas do nosso df original, vamos remover a ultima.\n",
        "#Para pegar a ultima data, iremos remover a nossa aba de total pois ela causa distorções em um DATAVIZ(para esse caso)\n",
        "#E chamaremos de ultima_data a ultima coluna do nosso dataframe: dados_estados\n",
        "\n",
        "\n",
        "if len(dados_estados['Unidade da Federação']) == len(df['Unidade da Federação']):\n",
        "  dados_estados = df.drop(df.tail(1).index)\n",
        "\n",
        "if len(dados_estados.columns) == len(df.columns):\n",
        "  dados_estados = dados_estados.drop(dados_estados.columns[-1],axis=1)\n",
        "\n",
        "\n",
        "ultima_data = dados_estados.columns[-1]\n",
        "\n",
        "dados_estados[ultima_data]=dados_estados[ultima_data].astype(float)\n",
        "\n",
        "ax = dados_estados.plot(x=\"Unidade da Federação\", y= ultima_data, kind=\"bar\", figsize=(9,6))\n",
        "ax.yaxis.set_major_formatter(ticker.StrMethodFormatter(\"{x:,.2f}\"))\n",
        "\n",
        "plt.title(\"Valor Gasto em R$ por unidade da federação\")\n",
        "plt.show()"
      ],
      "execution_count": null,
      "outputs": []
    },
    {
      "cell_type": "code",
      "metadata": {
        "id": "QJ9VHKVd13rv"
      },
      "source": [
        ""
      ],
      "execution_count": null,
      "outputs": []
    },
    {
      "cell_type": "code",
      "metadata": {
        "id": "T5u8q7k4sBgj"
      },
      "source": [
        "colunas_usaveis = dados_estados.mean().index.tolist()\n",
        "colunas_usaveis.insert(0, \"Unidade da Federação\")\n",
        "colunas_usaveis"
      ],
      "execution_count": null,
      "outputs": []
    },
    {
      "cell_type": "code",
      "metadata": {
        "id": "9dK9Pwilsdd7"
      },
      "source": [
        "usaveis = dados_estados[colunas_usaveis]\n",
        "usaveis = usaveis.set_index(\"Unidade da Federação\")\n",
        "usaveis = usaveis.drop(\"Total\", axis=1)\n",
        "usaveis = usaveis.drop(\"Total\", axis=0)\n",
        "\n",
        "usaveis\n",
        "\n"
      ],
      "execution_count": null,
      "outputs": []
    },
    {
      "cell_type": "code",
      "metadata": {
        "id": "KOAS2TbdM-u4"
      },
      "source": [
        "ax = usaveis.T.plot(figsize=(10,6))\n",
        "ax.legend(loc='center left', bbox_to_anchor=(1.1, 0.5))"
      ],
      "execution_count": null,
      "outputs": []
    },
    {
      "cell_type": "code",
      "metadata": {
        "id": "8mKpd0luieIR"
      },
      "source": [
        "##Criar Região para cada estado.\n",
        " #Utilizaremos o dataframe: dados_estados para inserir a categoria Região Administrativa\n",
        "\n",
        "dados_estados = df\n",
        "dados_estados.replace(\"-\",0 , inplace= True)\n",
        "\n",
        "#Observando o Dataframe, descobrir que cada região administrativa possui um código e ele é inserido\n",
        "#no primeiro caractere do número do estado.\n",
        "#Sendo assim, criamos um dict para ser o nosso depara de Código e Região.\n",
        "\n",
        "regiao = {\"1\": \"Norte\", \"2\":\"Nordeste\", \"3\":\"Sudeste\",\"4\":\"Sul\",\"5\":\"Centro-Oeste\", \"T\": \"Total\"}\n",
        "\n",
        "#com a utilização do slice, removemos todos os caracteres da string após o primeiro - já que nosso\n",
        "#depara só utiliza o primeiro carac para verificação\n",
        "dados_estados[\"Região\"] = dados_estados[\"Unidade da Federação\"].str.slice(0,1)\n",
        "\n",
        "#utilizaremos a função .map(regiao) em que ele olhará o valor dentro de cada linhaxcoluna e verificará dentro\n",
        "#do nosso dict qual seria o depara apropriado.\n",
        "#vale lembrar que caso a gente não tenha mapeado de maneira completa, os valores não encontrados seriam\n",
        "# NAN, então talvez vale colocar um count para esse tipo de situação para entender se foi assertivo o dict\n",
        "\n",
        "dados_estados[\"Região\"] = dados_estados[\"Região\"].map(regiao)\n",
        "\n"
      ],
      "execution_count": null,
      "outputs": []
    },
    {
      "cell_type": "code",
      "metadata": {
        "id": "hld6qYWdk-77"
      },
      "source": [
        "#Considerando que nosso dataframe, possui 146 colunas.\n",
        "#Fiquei com preguiça arrumar isso manualmente, sendo assim criei uma estrutura para colocar\n",
        "#Estado e Região nas duas primeiras colunas e o resto ficar posterior a elas.\n",
        "\n",
        "#Colunas que quero no começo:\n",
        "colunas_principais = ['Unidade da Federação', 'Região']\n",
        "#Essa função concatena nossa lista, fazendo com que as colunas principais fiquem no começo e depois\n",
        "#a partir de todos as outras colunas, da drop nas duas que setamos no \"colunas_principais\"\n",
        "#para evitar repetição e depois criamos em uma lista.\n",
        "\n",
        "novo_layout = colunas_principais + (dados_estados.columns.drop(colunas_principais).tolist())\n",
        "#por fim, declaramos que nosso dataframe \"dados_estados\" são os dados_estados com o sort realizado acima.\n",
        "dados_estados = dados_estados[novo_layout]\n",
        "dados_estados"
      ],
      "execution_count": null,
      "outputs": []
    },
    {
      "cell_type": "code",
      "metadata": {
        "id": "zfhPcSJJkbaD"
      },
      "source": [
        ""
      ],
      "execution_count": null,
      "outputs": []
    }
  ]
}